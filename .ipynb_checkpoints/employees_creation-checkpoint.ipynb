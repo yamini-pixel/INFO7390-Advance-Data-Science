{
 "cells": [
  {
   "cell_type": "code",
   "execution_count": 13,
   "id": "e181bb7d-fc1b-49b9-89e4-e8a9b2e868e8",
   "metadata": {},
   "outputs": [],
   "source": [
    "import pandas as pd\n",
    "import random\n",
    "import numpy as np\n",
    "\n",
    "# Create a synthetic dataset with 30 rows\n",
    "data = {\n",
    "    'Name': ['Alice', 'Bob',    'Charlie', 'David', 'Eva', '   Frank', 'Grace', 'Helen', 'Ivy', 'Jack',\n",
    "             'Kurt',  'Linda',  'Mike',    'Nancy', 'Oliver',  'Paul', 'Quinn', 'Rachel', 'Steve', 'Tina',\n",
    "             'Ursula', 'Victor', 'Wendy', 'Xander', 'Yasmine', 'Zane', 'Sophia', 'Noah', 'Yamini'],\n",
    "    'Age': [25, 30, 22, np.nan, 29, 35,     42, 50, 26, 40,\n",
    "            33, 28, 45, 24,     32, np.nan, 37, 39, 27, 31,\n",
    "            23, 36, 55, 48,     26,  29,    34, 43, 38],\n",
    "    'Gender': ['F', 'M', 'M', 'M', 'F', 'M', 'F', 'F', 'F', 'M',\n",
    "               'M', 'F', 'M', 'F', 'M', 'M', 'F', 'F', 'F', 'M',\n",
    "               'F', 'M', 'F', 'M', 'F', 'M', 'M', 'F', 'M'],\n",
    "    'Salary': ['$55,000', '$63,200', '$58,900', '$75,000', '$62,400', '67000', '$48,500', '$NaN', '$53,200', '$69,800',\n",
    "               '$72,500', '$NaN',    '62000',   '$55,800', '72000',   '78000', '$NaN',    '$49,600', '$NaN', '$68,900',\n",
    "               '$58,200', '$71,500', '74000',   '62000',   '$57,300', '$62,900', '71000', '$49,200', '$63,400'],\n",
    "    'Email': ['alice@email.com', 'bob@email.com',    'charlie@email.com', 'david@missing.com', 'eva@email.com',\n",
    "              'frank@email.com', 'grace@email.com',   'helen@email.com',   'ivy@email.com', 'jack@email.com',\n",
    "              'kurt@email.com',  'linda@email.com',   'mike@email.com',    'nancy@email.com', 'oliver@email.com',\n",
    "              'paul@email.com',    'quinn@email.com',  'rachel@email.com', 'steve@email.com', 'tina@email.com',\n",
    "              'ursula@email.com', 'victor@email.com',  'wendy@email.com',   'xander@email.com', \n",
    "              'yasmine@email.com', 'zane@email.com',  'sophia@email.com',  'noah@email.com', 'yamini@email.com'],\n",
    "    'Phone': ['123-456-7890', '555-555-5555', '444-333-2222', '123-543-2345', '666-777-8888',\n",
    "              '777-888-9999', '555-444-3333', 'NaN',          '999-888-7777', '111-222-3333',\n",
    "              '123-456-7890', '555-555-5555', '444-333-2222', '123-543-2345', '666-777-8888',\n",
    "              '777-888-9999', '555-444-3333', 'NaN',          '999-888-7777', '111-222-3333',\n",
    "              '123-456-7890', '555-555-5555', '444-333-2222', '123-543-2345', '666-777-8888',\n",
    "              '777-888-9999', '555-444-3333', 'NaN',          '999-888-7777'],\n",
    "    'City': ['New York', 'Los Angeles', 'Chicago', 'Houston', 'Miami',    'San Francisco', 'NaN',        'Boston',        'Dallas',  'Phoenix',\n",
    "             'San Diego', 'Seattle',   'Austin',   'Denver', 'Nashville', 'Miami',         'Los Angeles', 'San Francisco', 'New York', 'Chicago',\n",
    "             'Houston',   'Boston',    'Dallas',   'Phoenix', 'New York', 'Los Angeles',    'Chicago',    'Houston',       'Miami'],\n",
    "    'Education': ['Bachelor', 'Master', 'Ph.D.', 'Bachelor', 'NaN',   'Master', 'Ph.D.', 'Master', 'Bachelor', 'Ph.D.',\n",
    "                   'Bachelor', 'Master', 'Ph.D.', 'Bachelor', 'NaN',   'Master', 'Ph.D.', 'Master', 'Bachelor', 'Ph.D.',\n",
    "                   'Bachelor', 'Master', 'Ph.D.', 'Bachelor', 'Master', 'Ph.D.', 'Bachelor', 'Master', 'Ph.D.'],\n",
    "    'Experience (Years)': [3.5, 7, 'NaN', 2, 5, 10, 8, 20,    4, 12,\n",
    "                            6, 9, 15,     1, 11, 14, 3, 'NaN', 8, 5,\n",
    "                            4, 7, 6,      12, 3, 9, 10, 11,   7],\n",
    "    'Score': [85, 92, 78, 110, 89, 97, 93, 120, 88, 98,\n",
    "              84, 95, 75, 130, 91, 105, 87, 115, 90, 100,\n",
    "              86, 94, 80, 112, 88, 96, 98, 109, 93]\n",
    "}\n",
    "\n",
    "\n"
   ]
  },
  {
   "cell_type": "code",
   "execution_count": 14,
   "id": "0ab11a55-7c79-4491-8c15-7748dd364cd0",
   "metadata": {},
   "outputs": [],
   "source": [
    "# Create DataFrame\n",
    "df = pd.DataFrame(data)\n",
    "\n",
    "# Save the DataFrame to an Excel sheet\n",
    "excel_file_path = 'employees.xlsx'\n",
    "df.to_excel(excel_file_path, index=False)  # Set index=False to exclude the index column"
   ]
  },
  {
   "cell_type": "code",
   "execution_count": null,
   "id": "8f68d860-957f-4e1d-a608-3e4490887309",
   "metadata": {},
   "outputs": [],
   "source": []
  },
  {
   "cell_type": "code",
   "execution_count": null,
   "id": "02a0b4c5-1c90-4b25-a2ad-a03b4931c922",
   "metadata": {},
   "outputs": [],
   "source": []
  },
  {
   "cell_type": "code",
   "execution_count": null,
   "id": "3fe5da17-ced3-4a03-8aed-3918fc96cd22",
   "metadata": {},
   "outputs": [],
   "source": []
  },
  {
   "cell_type": "code",
   "execution_count": null,
   "id": "4d4b5220-6094-45b7-882a-745865c742bd",
   "metadata": {},
   "outputs": [],
   "source": []
  },
  {
   "cell_type": "code",
   "execution_count": null,
   "id": "1c0ccda9-081d-4dd7-8aa4-e7ccee20df9b",
   "metadata": {},
   "outputs": [],
   "source": []
  },
  {
   "cell_type": "code",
   "execution_count": null,
   "id": "19b905db-11c3-47c3-8e8d-e29899364394",
   "metadata": {},
   "outputs": [],
   "source": []
  },
  {
   "cell_type": "code",
   "execution_count": null,
   "id": "a4235e7c-28cc-4dd0-bb7a-0a7111826daf",
   "metadata": {},
   "outputs": [],
   "source": []
  },
  {
   "cell_type": "code",
   "execution_count": null,
   "id": "e958dc2b-723a-4f54-ace3-4c5879edccc5",
   "metadata": {},
   "outputs": [],
   "source": []
  },
  {
   "cell_type": "code",
   "execution_count": null,
   "id": "03314c4b-5dfc-4cae-a2a9-32376123af8b",
   "metadata": {},
   "outputs": [],
   "source": []
  },
  {
   "cell_type": "code",
   "execution_count": null,
   "id": "853cf462-a1b1-48cf-8387-ef440e393cc5",
   "metadata": {},
   "outputs": [],
   "source": []
  },
  {
   "cell_type": "code",
   "execution_count": null,
   "id": "4f3638a9-6706-4626-abef-0e578904c187",
   "metadata": {},
   "outputs": [],
   "source": []
  },
  {
   "cell_type": "code",
   "execution_count": null,
   "id": "24f805e4-cc8a-46bf-9e98-c25d583701a7",
   "metadata": {},
   "outputs": [],
   "source": []
  },
  {
   "cell_type": "code",
   "execution_count": null,
   "id": "dc3aeef7-acf9-4352-b106-847c30f8350a",
   "metadata": {},
   "outputs": [],
   "source": []
  },
  {
   "cell_type": "code",
   "execution_count": null,
   "id": "ec5fb7e1-fd9c-496b-909d-71e7edddbd13",
   "metadata": {},
   "outputs": [],
   "source": []
  },
  {
   "cell_type": "code",
   "execution_count": null,
   "id": "b7706aa1-5796-4ff3-a782-327a44533e80",
   "metadata": {},
   "outputs": [],
   "source": []
  }
 ],
 "metadata": {
  "kernelspec": {
   "display_name": "Python 3 (ipykernel)",
   "language": "python",
   "name": "python3"
  },
  "language_info": {
   "codemirror_mode": {
    "name": "ipython",
    "version": 3
   },
   "file_extension": ".py",
   "mimetype": "text/x-python",
   "name": "python",
   "nbconvert_exporter": "python",
   "pygments_lexer": "ipython3",
   "version": "3.11.5"
  }
 },
 "nbformat": 4,
 "nbformat_minor": 5
}
